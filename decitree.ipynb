{
  "nbformat": 4,
  "nbformat_minor": 0,
  "metadata": {
    "colab": {
      "provenance": []
    },
    "kernelspec": {
      "name": "python3",
      "display_name": "Python 3"
    },
    "language_info": {
      "name": "python"
    }
  },
  "cells": [
    {
      "cell_type": "code",
      "execution_count": 9,
      "metadata": {
        "id": "q3cOVZSmksBe"
      },
      "outputs": [],
      "source": [
        "import numpy as np\n",
        "import pandas as pd\n",
        "eps = np.finfo(float).eps\n",
        "from numpy import log2 as log\n",
        "\n",
        "outlook = 'overcast,overcast,overcast,overcast,rainy,rainy,rainy,rainy,rainy,sunny,sunny,sunny,sunny,sunny'.split(',')\n",
        "temp = 'hot,cool,mild,hot,mild,cool,cool,mild,mild,hot,hot,mild,cool,mild'.split(',')\n",
        "humidity = 'high,normal,high,normal,high,normal,normal,normal,high,high,high,high,normal,normal'.split(',')\n",
        "windy = 'FALSE,TRUE,TRUE,FALSE,FALSE,FALSE,TRUE,FALSE,TRUE,FALSE,TRUE,FALSE,FALSE,TRUE'.split(',')\n",
        "play = 'yes,yes,yes,yes,yes,yes,no,yes,no,no,no,no,yes,yes'.split(',')\n",
        "\n",
        "dataset = {'outlook':outlook,'temp':temp,'humidity':humidity,'windy':windy,'play':play}\n",
        "df = pd.DataFrame(dataset,columns=['outlook','temp','humidity','windy','play'])\n",
        "\n",
        "def find_entropy(df):\n",
        "    Class = df.keys()[-1]   #To make the code generic, changing target variable class name\n",
        "    entropy = 0\n",
        "    values = df[Class].unique()\n",
        "    for value in values:\n",
        "        fraction = df[Class].value_counts()[value]/len(df[Class])\n",
        "        entropy += -fraction*np.log2(fraction)\n",
        "    return entropy\n",
        "\n",
        "def find_entropy_attribute(df,attribute):\n",
        "    Class = df.keys()[-1]   #To make the code generic, changing target variable class name\n",
        "    target_variables = df[Class].unique()  #This gives all 'Yes' and 'No'\n",
        "    variables = df[attribute].unique()    #This gives different features in that attribute (like 'Hot','Cold' in Temperature)\n",
        "    entropy2 = 0\n",
        "    for variable in variables:\n",
        "        entropy = 0\n",
        "        for target_variable in target_variables:\n",
        "            num = len(df[attribute][df[attribute]==variable][df[Class] ==target_variable])\n",
        "            den = len(df[attribute][df[attribute]==variable])\n",
        "            fraction = num/(den+eps)\n",
        "            entropy += -fraction*log(fraction+eps)\n",
        "        fraction2 = den/len(df)\n",
        "        entropy2 += -fraction2*entropy\n",
        "    return abs(entropy2)\n",
        "\n",
        "def find_winner(df):\n",
        "    Entropy_att = []\n",
        "    IG = []\n",
        "    for key in df.keys()[:-1]:\n",
        "        IG.append(find_entropy(df)-find_entropy_attribute(df,key))\n",
        "    return df.keys()[:-1][np.argmax(IG)]\n",
        "\n",
        "def get_subtable(df,node,value):\n",
        "    return df[df[node] == value].reset_index(drop=True)\n",
        "\n",
        "def buildTree(df,tree=None):\n",
        "    Class = df.keys()[-1]   #To make the code generic, changing target variable class name\n",
        "    #Get attribute with maximum information gain\n",
        "    node = find_winner(df)\n",
        "    #Get distinct value of that attribute e.g Salary is node and Low,Med and High are values\n",
        "    attValue = np.unique(df[node])\n",
        "    #Create an empty dictionary to create tree\n",
        "    if tree is None:\n",
        "        tree={}\n",
        "        tree[node] = {}\n",
        "    #We make loop to construct a tree by calling this function recursively.\n",
        "    #In this we check if the subset is pure and stops if it is pure.\n",
        "    for value in attValue:\n",
        "        subtable = get_subtable(df,node,value)\n",
        "        clValue,counts = np.unique(subtable['play'],return_counts=True)\n",
        "        if len(counts)==1: #Checking purity of subset\n",
        "            tree[node][value] = clValue[0]\n",
        "        else:\n",
        "            tree[node][value] = buildTree(subtable) #Calling the function recursively\n",
        "    return tree"
      ]
    },
    {
      "cell_type": "code",
      "source": [
        "pip install pprintpp"
      ],
      "metadata": {
        "colab": {
          "base_uri": "https://localhost:8080/"
        },
        "id": "9fu-B4wCm61f",
        "outputId": "8d84c874-9490-4124-e3ef-e63da07c78f8"
      },
      "execution_count": 10,
      "outputs": [
        {
          "output_type": "stream",
          "name": "stdout",
          "text": [
            "Looking in indexes: https://pypi.org/simple, https://us-python.pkg.dev/colab-wheels/public/simple/\n",
            "Requirement already satisfied: pprintpp in /usr/local/lib/python3.7/dist-packages (0.4.0)\n"
          ]
        }
      ]
    },
    {
      "cell_type": "code",
      "source": [
        "t = buildTree(df)\n",
        "import pprintpp\n",
        "pprintpp.pprint(t)"
      ],
      "metadata": {
        "colab": {
          "base_uri": "https://localhost:8080/"
        },
        "id": "DbnsoPdynD1r",
        "outputId": "60ce4dfe-4815-4e74-ed7d-9b5435ccde58"
      },
      "execution_count": 11,
      "outputs": [
        {
          "output_type": "stream",
          "name": "stdout",
          "text": [
            "{\n",
            "    'outlook': {\n",
            "        'overcast': 'yes',\n",
            "        'rainy': {'windy': {'FALSE': 'yes', 'TRUE': 'no'}},\n",
            "        'sunny': {'humidity': {'high': 'no', 'normal': 'yes'}},\n",
            "    },\n",
            "}\n"
          ]
        }
      ]
    }
  ]
}